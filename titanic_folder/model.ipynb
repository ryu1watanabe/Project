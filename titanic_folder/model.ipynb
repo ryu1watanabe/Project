{
 "cells": [
  {
   "cell_type": "code",
   "execution_count": 22,
   "metadata": {},
   "outputs": [],
   "source": [
    "import numpy as np\n",
    "import pandas as pd\n",
    "import seaborn as sns\n",
    "import matplotlib.pyplot as plt"
   ]
  },
  {
   "cell_type": "code",
   "execution_count": 23,
   "metadata": {},
   "outputs": [],
   "source": [
    "# -----------------------------------\n",
    "# 学習データ、テストデータの読み込み\n",
    "# -----------------------------------\n",
    "# 学習データ、テストデータの読み込み\n",
    "train = pd.read_csv('../input/titanic/train.csv')\n",
    "test = pd.read_csv('../input/titanic/test.csv')"
   ]
  },
  {
   "cell_type": "code",
   "execution_count": 24,
   "metadata": {},
   "outputs": [],
   "source": [
    "# 学習データを特徴量と目的変数に分ける\n",
    "train_x = train.drop(['Survived'], axis=1)\n",
    "train_y = train['Survived']\n",
    "\n",
    "# テストデータは特徴量のみなので、そのままでよい\n",
    "test_x = test.copy()"
   ]
  },
  {
   "cell_type": "markdown",
   "metadata": {},
   "source": [
    "feature_importances_の値が小さいカラムは削除する"
   ]
  },
  {
   "cell_type": "code",
   "execution_count": 25,
   "metadata": {},
   "outputs": [],
   "source": [
    "# -----------------------------------\n",
    "# 特徴量作成\n",
    "# -----------------------------------\n",
    "from sklearn.preprocessing import LabelEncoder\n",
    "\n",
    "# 変数PassengerIdを除外する\n",
    "train_x = train_x.drop(['PassengerId'], axis=1)\n",
    "test_x = test_x.drop(['PassengerId'], axis=1)\n",
    "\n",
    "# 変数Initialを追加する\n",
    "train_x['Initial']=0\n",
    "test_x['Initial']=0\n",
    "for i in train_x:\n",
    "    train_x['Initial']=train_x.Name.str.extract('([A-Za-z]+)\\.')\n",
    "for i in test_x:\n",
    "    test_x['Initial']=test_x.Name.str.extract('([A-Za-z]+)\\.')\n",
    "\n",
    "# 年齢の欠損値を欠損していない年齢の中央値で補完します。\n",
    "train_x[\"Age\"] = train_x[\"Age\"].fillna(train_x[\"Age\"].median())\n",
    "test_x[\"Age\"] = test_x[\"Age\"].fillna(test_x[\"Age\"].median())\n",
    "\n",
    "# 変数isMrを追加する\n",
    "train_x['isMr']=0\n",
    "test_x['isMr']=0\n",
    "for i in range(len(train_x)):\n",
    "    if train_x.at[i, 'Initial'] == 'Mr':\n",
    "        train_x.at[i, 'isMr'] = 1\n",
    "    else:\n",
    "        train_x.at[i, 'isMr'] = 0\n",
    "for i in range(len(test_x)):\n",
    "    if test_x.at[i, 'Initial'] == 'Mr':\n",
    "        test_x.at[i, 'isMr'] = 1\n",
    "    else:\n",
    "        test_x.at[i, 'isMr'] = 0\n",
    "\n",
    "## 変数isMrsを追加する\n",
    "#train_x['isMrs']=0\n",
    "#test_x['isMrs']=0\n",
    "#for i in range(len(train_x)):\n",
    "#    if train_x.at[i, 'Initial'] == 'Mrs':\n",
    "#        train_x.at[i, 'isMrs'] = 1\n",
    "#    else:\n",
    "#        train_x.at[i, 'isMrs'] = 0\n",
    "#for i in range(len(test_x)):\n",
    "#    if test_x.at[i, 'Initial'] == 'Mrs':\n",
    "#        test_x.at[i, 'isMrs'] = 1\n",
    "#    else:\n",
    "#        test_x.at[i, 'isMrs'] = 0\n",
    "\n",
    "## 変数isMissを追加する\n",
    "#train_x['isMiss']=0\n",
    "#test_x['isMiss']=0\n",
    "#for i in range(len(train_x)):\n",
    "#    if train_x.at[i, 'Initial'] == 'Miss':\n",
    "#        train_x.at[i, 'isMiss'] = 1\n",
    "#    else:\n",
    "#        train_x.at[i, 'isMiss'] = 0\n",
    "#for i in range(len(test_x)):\n",
    "#    if test_x.at[i, 'Initial'] == 'Miss':\n",
    "#        test_x.at[i, 'isMiss'] = 1\n",
    "#    else:\n",
    "#        test_x.at[i, 'isMiss'] = 0\n",
    "        \n",
    "# 変数isMasterを追加する\n",
    "train_x['isMaster']=0\n",
    "test_x['isMaster']=0\n",
    "for i in range(len(train_x)):\n",
    "    if train_x.at[i, 'Initial'] == 'Master':\n",
    "        train_x.at[i, 'isMaster'] = 1\n",
    "    else:\n",
    "        train_x.at[i, 'isMaster'] = 0\n",
    "for i in range(len(test_x)):\n",
    "    if test_x.at[i, 'Initial'] == 'Master':\n",
    "        test_x.at[i, 'isMaster'] = 1\n",
    "    else:\n",
    "        test_x.at[i, 'isMaster'] = 0\n",
    "\n",
    "# 変数Ticketを置換する\n",
    "train_x['Ticket'] = train_x['Ticket'].replace('LINE','LINE 0')\n",
    "test_x['Ticket'] = test_x['Ticket'].replace('LINE','LINE 0')\n",
    "train_x['Ticket'] = train_x['Ticket'].apply(lambda x: x.replace('.','').replace('/','').lower())\n",
    "def get_prefix(ticket):\n",
    "    lead = ticket.split(' ')[0][0]\n",
    "    if lead.isalpha():\n",
    "        return ticket.split(' ')[0]\n",
    "    else:\n",
    "        return 'NoPrefix'\n",
    "test_x['Ticket'] = test_x['Ticket'].apply(lambda x: x.replace('.','').replace('/','').lower())\n",
    "def get_prefix(ticket):\n",
    "    lead = ticket.split(' ')[0][0]\n",
    "    if lead.isalpha():\n",
    "        return ticket.split(' ')[0]\n",
    "    else:\n",
    "        return 'NoPrefix'\n",
    "\n",
    "# 変数TNumericを追加する\n",
    "train_x['TNumeric'] = train_x['Ticket'].apply(lambda x: int(x.split(' ')[-1])//1)\n",
    "test_x['TNumeric'] = test_x['Ticket'].apply(lambda x: int(x.split(' ')[-1])//1)\n",
    "\n",
    "## 変数TNlenを追加する\n",
    "#train_x['TNlen'] = train_x['TNumeric'].apply(lambda x : len(str(x)))\n",
    "#test_x['TNlen'] = test_x['TNumeric'].apply(lambda x : len(str(x)))\n",
    "\n",
    "# 変数LeadingDigitを追加する\n",
    "train_x['LeadingDigit'] = train_x['TNumeric'].apply(lambda x : int(str(x)[0]))\n",
    "test_x['LeadingDigit'] = test_x['TNumeric'].apply(lambda x : int(str(x)[0]))\n",
    "\n",
    "# 変数Deckを追加する\n",
    "train_x['Deck']=0\n",
    "test_x['Deck']=0\n",
    "for i in train_x:\n",
    "    train_x['Deck']=train_x[\"Cabin\"].str.slice(0,1)\n",
    "for i in test_x:\n",
    "    test_x['Deck']=test_x[\"Cabin\"].str.slice(0,1)\n",
    "\n",
    "## 変数isDeckを追加する\n",
    "#train_x['isDeck']=0\n",
    "#test_x['isDeck']=0\n",
    "#for i in range(len(train_x)):\n",
    "#    if train_x.at[i, 'Sex'] == 'female':\n",
    "#        if train_x.at[i, 'Deck'] == 'B' or 'C' or 'D' or 'E':\n",
    "#            train_x.at[i, 'isDeck'] = 1\n",
    "#        else:\n",
    "#            train_x.at[i, 'isDeck'] = 0\n",
    "#for i in range(len(test_x)):\n",
    "#    if test_x.at[i, 'Sex'] == 'female':\n",
    "#        if test_x.at[i, 'Deck'] == 'B' or 'C' or 'D' or 'E':\n",
    "#            test_x.at[i, 'isDeck'] = 1\n",
    "#        else:\n",
    "#            test_x.at[i, 'isDeck'] = 0\n",
    "\n",
    "# 変数Name, Parch, Ticket, Cabinを除外する\n",
    "train_x = train_x.drop(['Name', 'Parch', 'Ticket', 'Cabin'], axis=1)\n",
    "test_x = test_x.drop(['Name', 'Parch', 'Ticket', 'Cabin'], axis=1)"
   ]
  },
  {
   "cell_type": "code",
   "execution_count": 26,
   "metadata": {},
   "outputs": [],
   "source": [
    "# テストデータにのみ存在するDonaをMissに置換する\n",
    "test_x.at[414, 'Initial'] = 'Miss'"
   ]
  },
  {
   "cell_type": "code",
   "execution_count": 27,
   "metadata": {},
   "outputs": [],
   "source": [
    "# テストデータにのみ存在する欠損値を中央値で補完します。\n",
    "test_x[\"Fare\"] = test_x[\"Fare\"].fillna(test_x[\"Fare\"].median())"
   ]
  },
  {
   "cell_type": "code",
   "execution_count": 28,
   "metadata": {},
   "outputs": [],
   "source": [
    "# それぞれのカテゴリ変数にlabel encodingを適用する\n",
    "for c in ['Sex', 'Embarked', 'Initial', 'Deck']:\n",
    "    # 学習データに基づいてどう変換するかを定める\n",
    "    le = LabelEncoder()\n",
    "    le.fit(train_x[c].fillna('NA'))\n",
    "\n",
    "    # 学習データ、テストデータを変換する\n",
    "    train_x[c] = le.transform(train_x[c].fillna('NA'))\n",
    "    test_x[c] = le.transform(test_x[c].fillna('NA'))"
   ]
  },
  {
   "cell_type": "code",
   "execution_count": 29,
   "metadata": {},
   "outputs": [],
   "source": [
    "# -----------------------------------\n",
    "# モデル作成\n",
    "# -----------------------------------\n",
    "#import xgboost as xgb\n",
    "from sklearn.ensemble import RandomForestClassifier as RandomForest"
   ]
  },
  {
   "cell_type": "code",
   "execution_count": 30,
   "metadata": {
    "scrolled": true
   },
   "outputs": [
    {
     "name": "stdout",
     "output_type": "stream",
     "text": [
      "logloss: 0.6207, accuracy: 0.8463\n"
     ]
    }
   ],
   "source": [
    "# -----------------------------------\n",
    "# バリデーション\n",
    "# -----------------------------------\n",
    "from sklearn.metrics import log_loss, accuracy_score\n",
    "from sklearn.model_selection import StratifiedKFold\n",
    "\n",
    "# 各foldのスコアを保存するリスト\n",
    "scores_accuracy = []\n",
    "scores_logloss = []\n",
    "\n",
    "# StratifideKFoldクラスを用いて層化抽出による分割を行う\n",
    "kf = StratifiedKFold(n_splits=4, shuffle=True, random_state=71)\n",
    "for tr_idx, va_idx in kf.split(train_x, train_y):\n",
    "    # 学習データを学習データとバリデーションデータに分ける\n",
    "    tr_x, va_x = train_x.iloc[tr_idx], train_x.iloc[va_idx]\n",
    "    tr_y, va_y = train_y.iloc[tr_idx], train_y.iloc[va_idx]\n",
    "\n",
    "    # モデルの学習を行う\n",
    "    #model = xgb.DMatrix(n_estimators=20, random_state=71)\n",
    "    model = RandomForest(n_estimators=100)\n",
    "    model.fit(tr_x, tr_y)\n",
    "\n",
    "    # バリデーションデータの予測値を確率で出力する\n",
    "    va_pred = model.predict_proba(va_x)[:, 1]\n",
    "    \n",
    "    # バリデーションデータでのスコアを計算する\n",
    "    logloss = log_loss(va_y, va_pred)\n",
    "    accuracy = accuracy_score(va_y,va_pred > 0.5) \n",
    "    \n",
    "    # そのfoldスコアを保存する\n",
    "    scores_logloss.append(logloss)\n",
    "    scores_accuracy.append(accuracy)\n",
    "\n",
    "# 各foldのスコアの平均を出力する\n",
    "logloss = np.mean(scores_logloss)\n",
    "accuracy = np.mean(scores_accuracy)\n",
    "print(f'logloss: {logloss:.4f}, accuracy: {accuracy:.4f}')"
   ]
  },
  {
   "cell_type": "code",
   "execution_count": 31,
   "metadata": {},
   "outputs": [],
   "source": [
    "# モデルの作成および学習データを与えての学習\n",
    "model = RandomForest(n_estimators=100)\n",
    "model.fit(train_x, train_y)\n",
    "\n",
    "# テストデータの予測値を確率で出力する\n",
    "pred = model.predict_proba(train_x)[:, 1]\n",
    "\n",
    "# テストデータの予測値を二値に変換する\n",
    "pred_label = np.where(pred > 0.5, 1, 0)\n"
   ]
  },
  {
   "cell_type": "code",
   "execution_count": 32,
   "metadata": {
    "scrolled": true
   },
   "outputs": [
    {
     "data": {
      "text/plain": [
       "<BarContainer object of 12 artists>"
      ]
     },
     "execution_count": 32,
     "metadata": {},
     "output_type": "execute_result"
    },
    {
     "data": {
      "image/png": "[encoded data removed]",
      "text/plain": [
       "<Figure size 720x720 with 1 Axes>"
      ]
     },
     "metadata": {
      "needs_background": "light"
     },
     "output_type": "display_data"
    }
   ],
   "source": [
    "features =train_x.columns[train_x.any()]\n",
    "fscore = model.feature_importances_   \n",
    "plt.figure(figsize=(10,10))\n",
    "plt.barh(features,fscore)"
   ]
  },
  {
   "cell_type": "code",
   "execution_count": 33,
   "metadata": {},
   "outputs": [],
   "source": [
    "# テストデータの予測値を確率で出力する\n",
    "pred = model.predict_proba(test_x)[:, 1]\n",
    "\n",
    "# テストデータの予測値を二値に変換する\n",
    "pred_label = np.where(pred > 0.5, 1, 0)\n",
    "\n",
    "# 提出用ファイルの作成\n",
    "submission = pd.DataFrame({'PassengerId': test['PassengerId'], 'Survived': pred_label})\n",
    "submission.to_csv('../output/submission_first.csv', index=False)"
   ]
  },
  {
   "cell_type": "code",
   "execution_count": null,
   "metadata": {},
   "outputs": [],
   "source": []
  }
 ],
 "metadata": {
  "kernelspec": {
   "display_name": "Python 3",
   "language": "python",
   "name": "python3"
  },
  "language_info": {
   "codemirror_mode": {
    "name": "ipython",
    "version": 3
   },
   "file_extension": ".py",
   "mimetype": "text/x-python",
   "name": "python",
   "nbconvert_exporter": "python",
   "pygments_lexer": "ipython3",
   "version": "3.7.4"
  }
 },
 "nbformat": 4,
 "nbformat_minor": 2
}
